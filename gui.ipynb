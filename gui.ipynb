{
 "cells": [
  {
   "cell_type": "code",
   "execution_count": 1,
   "outputs": [
    {
     "ename": "TclError",
     "evalue": "bad event type or keysym \"button1\"",
     "output_type": "error",
     "traceback": [
      "\u001B[0;31m---------------------------------------------------------------------------\u001B[0m",
      "\u001B[0;31mTclError\u001B[0m                                  Traceback (most recent call last)",
      "\u001B[0;32m<ipython-input-1-c5d76a52f383>\u001B[0m in \u001B[0;36m<module>\u001B[0;34m\u001B[0m\n\u001B[1;32m     20\u001B[0m \u001B[0;34m\u001B[0m\u001B[0m\n\u001B[1;32m     21\u001B[0m \u001B[0;31m# bind the button, button name, function to call\u001B[0m\u001B[0;34m\u001B[0m\u001B[0;34m\u001B[0m\u001B[0;34m\u001B[0m\u001B[0m\n\u001B[0;32m---> 22\u001B[0;31m \u001B[0mbutton1\u001B[0m\u001B[0;34m.\u001B[0m\u001B[0mbind\u001B[0m\u001B[0;34m(\u001B[0m\u001B[0;34m\"<button1>\"\u001B[0m\u001B[0;34m,\u001B[0m \u001B[0mdummy_func\u001B[0m\u001B[0;34m)\u001B[0m\u001B[0;34m\u001B[0m\u001B[0;34m\u001B[0m\u001B[0m\n\u001B[0m\u001B[1;32m     23\u001B[0m \u001B[0;34m\u001B[0m\u001B[0m\n\u001B[1;32m     24\u001B[0m \u001B[0;31m# label for button\u001B[0m\u001B[0;34m\u001B[0m\u001B[0;34m\u001B[0m\u001B[0;34m\u001B[0m\u001B[0m\n",
      "\u001B[0;32m/Library/Frameworks/Python.framework/Versions/3.8/lib/python3.8/tkinter/__init__.py\u001B[0m in \u001B[0;36mbind\u001B[0;34m(self, sequence, func, add)\u001B[0m\n\u001B[1;32m   1381\u001B[0m         of bound events are returned.\"\"\"\n\u001B[1;32m   1382\u001B[0m \u001B[0;34m\u001B[0m\u001B[0m\n\u001B[0;32m-> 1383\u001B[0;31m         \u001B[0;32mreturn\u001B[0m \u001B[0mself\u001B[0m\u001B[0;34m.\u001B[0m\u001B[0m_bind\u001B[0m\u001B[0;34m(\u001B[0m\u001B[0;34m(\u001B[0m\u001B[0;34m'bind'\u001B[0m\u001B[0;34m,\u001B[0m \u001B[0mself\u001B[0m\u001B[0;34m.\u001B[0m\u001B[0m_w\u001B[0m\u001B[0;34m)\u001B[0m\u001B[0;34m,\u001B[0m \u001B[0msequence\u001B[0m\u001B[0;34m,\u001B[0m \u001B[0mfunc\u001B[0m\u001B[0;34m,\u001B[0m \u001B[0madd\u001B[0m\u001B[0;34m)\u001B[0m\u001B[0;34m\u001B[0m\u001B[0;34m\u001B[0m\u001B[0m\n\u001B[0m\u001B[1;32m   1384\u001B[0m \u001B[0;34m\u001B[0m\u001B[0m\n\u001B[1;32m   1385\u001B[0m     \u001B[0;32mdef\u001B[0m \u001B[0munbind\u001B[0m\u001B[0;34m(\u001B[0m\u001B[0mself\u001B[0m\u001B[0;34m,\u001B[0m \u001B[0msequence\u001B[0m\u001B[0;34m,\u001B[0m \u001B[0mfuncid\u001B[0m\u001B[0;34m=\u001B[0m\u001B[0;32mNone\u001B[0m\u001B[0;34m)\u001B[0m\u001B[0;34m:\u001B[0m\u001B[0;34m\u001B[0m\u001B[0;34m\u001B[0m\u001B[0m\n",
      "\u001B[0;32m/Library/Frameworks/Python.framework/Versions/3.8/lib/python3.8/tkinter/__init__.py\u001B[0m in \u001B[0;36m_bind\u001B[0;34m(self, what, sequence, func, add, needcleanup)\u001B[0m\n\u001B[1;32m   1335\u001B[0m                    (add and '+' or '',\n\u001B[1;32m   1336\u001B[0m                 funcid, self._subst_format_str))\n\u001B[0;32m-> 1337\u001B[0;31m             \u001B[0mself\u001B[0m\u001B[0;34m.\u001B[0m\u001B[0mtk\u001B[0m\u001B[0;34m.\u001B[0m\u001B[0mcall\u001B[0m\u001B[0;34m(\u001B[0m\u001B[0mwhat\u001B[0m \u001B[0;34m+\u001B[0m \u001B[0;34m(\u001B[0m\u001B[0msequence\u001B[0m\u001B[0;34m,\u001B[0m \u001B[0mcmd\u001B[0m\u001B[0;34m)\u001B[0m\u001B[0;34m)\u001B[0m\u001B[0;34m\u001B[0m\u001B[0;34m\u001B[0m\u001B[0m\n\u001B[0m\u001B[1;32m   1338\u001B[0m             \u001B[0;32mreturn\u001B[0m \u001B[0mfuncid\u001B[0m\u001B[0;34m\u001B[0m\u001B[0;34m\u001B[0m\u001B[0m\n\u001B[1;32m   1339\u001B[0m         \u001B[0;32melif\u001B[0m \u001B[0msequence\u001B[0m\u001B[0;34m:\u001B[0m\u001B[0;34m\u001B[0m\u001B[0;34m\u001B[0m\u001B[0m\n",
      "\u001B[0;31mTclError\u001B[0m: bad event type or keysym \"button1\""
     ]
    }
   ],
   "source": [
    "from tkinter import *\n",
    "#root is the machine name for the window\n",
    "root = Tk()\n",
    "\n",
    "# The title of the above window\n",
    "root.title(\"This is a title\")\n",
    "\n",
    "# Icon for window (gif is best?)\n",
    "# root.Iconbitmap('favicon.ico')\n",
    "\n",
    "# Window size\n",
    "root.geometry(\"300x500\")\n",
    "\n",
    "def dummy_func(event):\n",
    "    something = \"something\"\n",
    "    print(something)\n",
    "\n",
    "# button name = Button, button test, function to perform (command=\"\"), padding x, padding y, foreground color, background color\n",
    "button1 = Button(root, text=\"Click me!\", padx=0, pady=0, fg='blue', bg='red')\n",
    "\n",
    "# bind the button, button name, function to call\n",
    "button1.bind(\"<button1>\", dummy_func)\n",
    "\n",
    "# label for button\n",
    "button_label1 = Label(root, text=\"Hi there.\")\n",
    "\n",
    "# place the button and label in  the window\n",
    "button1.pack() # LEFT, RIGHT, BOTTOM, TOP\n",
    "button_label1.pack() # LEFT, RIGHT, BOTTOM, TOP\n",
    "\n",
    "root.mainloop()\n",
    "\n"
   ],
   "metadata": {
    "collapsed": false,
    "pycharm": {
     "name": "#%%\n"
    }
   }
  }
 ],
 "metadata": {
  "kernelspec": {
   "display_name": "Python 3",
   "language": "python",
   "name": "python3"
  },
  "language_info": {
   "codemirror_mode": {
    "name": "ipython",
    "version": 2
   },
   "file_extension": ".py",
   "mimetype": "text/x-python",
   "name": "python",
   "nbconvert_exporter": "python",
   "pygments_lexer": "ipython2",
   "version": "2.7.6"
  }
 },
 "nbformat": 4,
 "nbformat_minor": 0
}